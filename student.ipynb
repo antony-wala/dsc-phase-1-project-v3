{
 "cells": [
  {
   "cell_type": "markdown",
   "metadata": {},
   "source": [
    "## Business Problem\n",
    "Your company is expanding into new industries to diversify its portfolio. Specifically, they are interested in purchasing and operating airplanes for commercial and private enterprises, but lack domain knowledge about potential aircraft risks. You are tasked with identifying which aircraft types pose the lowest risk based on historical incident data. These insights will guide the head of the new aviation division in making informed decisions about which aircraft to purchase."
   ]
  },
  {
   "cell_type": "markdown",
   "metadata": {},
   "source": [
    "## Importing Libraries\n",
    "### Overview of Libraries\n",
    "- `pandas` for data manipulation\n",
    "- `matplotlib` and `seaborn` for data visualization\n",
    "These libraries will help in exploring, cleaning, and visualizing the dataset effectively."
   ]
  },
  {
   "cell_type": "code",
   "execution_count": 1,
   "metadata": {},
   "outputs": [],
   "source": [
    "# Import essential libraries\n",
    "import pandas as pd\n",
    "import matplotlib.pyplot as plt\n",
    "import seaborn as sns"
   ]
  },
  {
   "cell_type": "markdown",
   "metadata": {},
   "source": [
    "## Loading and familiarizing with the Dataset\n",
    "Read the dataset into a pandas DataFrame."
   ]
  },
  {
   "cell_type": "code",
   "execution_count": 2,
   "metadata": {},
   "outputs": [],
   "source": [
    "# Load the dataset and set specific columns (6, 7, 28) to string data type\n",
    "df = pd.read_csv('Data/Aviation_Data.csv', dtype={i: str for i in [6, 7, 28]})"
   ]
  },
  {
   "cell_type": "code",
   "execution_count": 3,
   "metadata": {},
   "outputs": [
    {
     "data": {
      "text/html": [
       "<div>\n",
       "<style scoped>\n",
       "    .dataframe tbody tr th:only-of-type {\n",
       "        vertical-align: middle;\n",
       "    }\n",
       "\n",
       "    .dataframe tbody tr th {\n",
       "        vertical-align: top;\n",
       "    }\n",
       "\n",
       "    .dataframe thead th {\n",
       "        text-align: right;\n",
       "    }\n",
       "</style>\n",
       "<table border=\"1\" class=\"dataframe\">\n",
       "  <thead>\n",
       "    <tr style=\"text-align: right;\">\n",
       "      <th></th>\n",
       "      <th>Event.Id</th>\n",
       "      <th>Investigation.Type</th>\n",
       "      <th>Accident.Number</th>\n",
       "      <th>Event.Date</th>\n",
       "      <th>Location</th>\n",
       "      <th>Country</th>\n",
       "      <th>Latitude</th>\n",
       "      <th>Longitude</th>\n",
       "      <th>Airport.Code</th>\n",
       "      <th>Airport.Name</th>\n",
       "      <th>...</th>\n",
       "      <th>Purpose.of.flight</th>\n",
       "      <th>Air.carrier</th>\n",
       "      <th>Total.Fatal.Injuries</th>\n",
       "      <th>Total.Serious.Injuries</th>\n",
       "      <th>Total.Minor.Injuries</th>\n",
       "      <th>Total.Uninjured</th>\n",
       "      <th>Weather.Condition</th>\n",
       "      <th>Broad.phase.of.flight</th>\n",
       "      <th>Report.Status</th>\n",
       "      <th>Publication.Date</th>\n",
       "    </tr>\n",
       "  </thead>\n",
       "  <tbody>\n",
       "    <tr>\n",
       "      <th>0</th>\n",
       "      <td>20001218X45444</td>\n",
       "      <td>Accident</td>\n",
       "      <td>SEA87LA080</td>\n",
       "      <td>1948-10-24</td>\n",
       "      <td>MOOSE CREEK, ID</td>\n",
       "      <td>United States</td>\n",
       "      <td>NaN</td>\n",
       "      <td>NaN</td>\n",
       "      <td>NaN</td>\n",
       "      <td>NaN</td>\n",
       "      <td>...</td>\n",
       "      <td>Personal</td>\n",
       "      <td>NaN</td>\n",
       "      <td>2.0</td>\n",
       "      <td>0.0</td>\n",
       "      <td>0.0</td>\n",
       "      <td>0.0</td>\n",
       "      <td>UNK</td>\n",
       "      <td>Cruise</td>\n",
       "      <td>Probable Cause</td>\n",
       "      <td>NaN</td>\n",
       "    </tr>\n",
       "    <tr>\n",
       "      <th>1</th>\n",
       "      <td>20001218X45447</td>\n",
       "      <td>Accident</td>\n",
       "      <td>LAX94LA336</td>\n",
       "      <td>1962-07-19</td>\n",
       "      <td>BRIDGEPORT, CA</td>\n",
       "      <td>United States</td>\n",
       "      <td>NaN</td>\n",
       "      <td>NaN</td>\n",
       "      <td>NaN</td>\n",
       "      <td>NaN</td>\n",
       "      <td>...</td>\n",
       "      <td>Personal</td>\n",
       "      <td>NaN</td>\n",
       "      <td>4.0</td>\n",
       "      <td>0.0</td>\n",
       "      <td>0.0</td>\n",
       "      <td>0.0</td>\n",
       "      <td>UNK</td>\n",
       "      <td>Unknown</td>\n",
       "      <td>Probable Cause</td>\n",
       "      <td>19-09-1996</td>\n",
       "    </tr>\n",
       "    <tr>\n",
       "      <th>2</th>\n",
       "      <td>20061025X01555</td>\n",
       "      <td>Accident</td>\n",
       "      <td>NYC07LA005</td>\n",
       "      <td>1974-08-30</td>\n",
       "      <td>Saltville, VA</td>\n",
       "      <td>United States</td>\n",
       "      <td>36.922223</td>\n",
       "      <td>-81.878056</td>\n",
       "      <td>NaN</td>\n",
       "      <td>NaN</td>\n",
       "      <td>...</td>\n",
       "      <td>Personal</td>\n",
       "      <td>NaN</td>\n",
       "      <td>3.0</td>\n",
       "      <td>NaN</td>\n",
       "      <td>NaN</td>\n",
       "      <td>NaN</td>\n",
       "      <td>IMC</td>\n",
       "      <td>Cruise</td>\n",
       "      <td>Probable Cause</td>\n",
       "      <td>26-02-2007</td>\n",
       "    </tr>\n",
       "    <tr>\n",
       "      <th>3</th>\n",
       "      <td>20001218X45448</td>\n",
       "      <td>Accident</td>\n",
       "      <td>LAX96LA321</td>\n",
       "      <td>1977-06-19</td>\n",
       "      <td>EUREKA, CA</td>\n",
       "      <td>United States</td>\n",
       "      <td>NaN</td>\n",
       "      <td>NaN</td>\n",
       "      <td>NaN</td>\n",
       "      <td>NaN</td>\n",
       "      <td>...</td>\n",
       "      <td>Personal</td>\n",
       "      <td>NaN</td>\n",
       "      <td>2.0</td>\n",
       "      <td>0.0</td>\n",
       "      <td>0.0</td>\n",
       "      <td>0.0</td>\n",
       "      <td>IMC</td>\n",
       "      <td>Cruise</td>\n",
       "      <td>Probable Cause</td>\n",
       "      <td>12-09-2000</td>\n",
       "    </tr>\n",
       "    <tr>\n",
       "      <th>4</th>\n",
       "      <td>20041105X01764</td>\n",
       "      <td>Accident</td>\n",
       "      <td>CHI79FA064</td>\n",
       "      <td>1979-08-02</td>\n",
       "      <td>Canton, OH</td>\n",
       "      <td>United States</td>\n",
       "      <td>NaN</td>\n",
       "      <td>NaN</td>\n",
       "      <td>NaN</td>\n",
       "      <td>NaN</td>\n",
       "      <td>...</td>\n",
       "      <td>Personal</td>\n",
       "      <td>NaN</td>\n",
       "      <td>1.0</td>\n",
       "      <td>2.0</td>\n",
       "      <td>NaN</td>\n",
       "      <td>0.0</td>\n",
       "      <td>VMC</td>\n",
       "      <td>Approach</td>\n",
       "      <td>Probable Cause</td>\n",
       "      <td>16-04-1980</td>\n",
       "    </tr>\n",
       "  </tbody>\n",
       "</table>\n",
       "<p>5 rows × 31 columns</p>\n",
       "</div>"
      ],
      "text/plain": [
       "         Event.Id Investigation.Type Accident.Number  Event.Date  \\\n",
       "0  20001218X45444           Accident      SEA87LA080  1948-10-24   \n",
       "1  20001218X45447           Accident      LAX94LA336  1962-07-19   \n",
       "2  20061025X01555           Accident      NYC07LA005  1974-08-30   \n",
       "3  20001218X45448           Accident      LAX96LA321  1977-06-19   \n",
       "4  20041105X01764           Accident      CHI79FA064  1979-08-02   \n",
       "\n",
       "          Location        Country   Latitude   Longitude Airport.Code  \\\n",
       "0  MOOSE CREEK, ID  United States        NaN         NaN          NaN   \n",
       "1   BRIDGEPORT, CA  United States        NaN         NaN          NaN   \n",
       "2    Saltville, VA  United States  36.922223  -81.878056          NaN   \n",
       "3       EUREKA, CA  United States        NaN         NaN          NaN   \n",
       "4       Canton, OH  United States        NaN         NaN          NaN   \n",
       "\n",
       "  Airport.Name  ... Purpose.of.flight Air.carrier Total.Fatal.Injuries  \\\n",
       "0          NaN  ...          Personal         NaN                  2.0   \n",
       "1          NaN  ...          Personal         NaN                  4.0   \n",
       "2          NaN  ...          Personal         NaN                  3.0   \n",
       "3          NaN  ...          Personal         NaN                  2.0   \n",
       "4          NaN  ...          Personal         NaN                  1.0   \n",
       "\n",
       "  Total.Serious.Injuries Total.Minor.Injuries Total.Uninjured  \\\n",
       "0                    0.0                  0.0             0.0   \n",
       "1                    0.0                  0.0             0.0   \n",
       "2                    NaN                  NaN             NaN   \n",
       "3                    0.0                  0.0             0.0   \n",
       "4                    2.0                  NaN             0.0   \n",
       "\n",
       "  Weather.Condition  Broad.phase.of.flight   Report.Status Publication.Date  \n",
       "0               UNK                 Cruise  Probable Cause              NaN  \n",
       "1               UNK                Unknown  Probable Cause       19-09-1996  \n",
       "2               IMC                 Cruise  Probable Cause       26-02-2007  \n",
       "3               IMC                 Cruise  Probable Cause       12-09-2000  \n",
       "4               VMC               Approach  Probable Cause       16-04-1980  \n",
       "\n",
       "[5 rows x 31 columns]"
      ]
     },
     "execution_count": 3,
     "metadata": {},
     "output_type": "execute_result"
    }
   ],
   "source": [
    "# Display the first 5 rows of the DataFrame\n",
    "df.head()"
   ]
  },
  {
   "cell_type": "code",
   "execution_count": 4,
   "metadata": {},
   "outputs": [
    {
     "data": {
      "text/html": [
       "<div>\n",
       "<style scoped>\n",
       "    .dataframe tbody tr th:only-of-type {\n",
       "        vertical-align: middle;\n",
       "    }\n",
       "\n",
       "    .dataframe tbody tr th {\n",
       "        vertical-align: top;\n",
       "    }\n",
       "\n",
       "    .dataframe thead th {\n",
       "        text-align: right;\n",
       "    }\n",
       "</style>\n",
       "<table border=\"1\" class=\"dataframe\">\n",
       "  <thead>\n",
       "    <tr style=\"text-align: right;\">\n",
       "      <th></th>\n",
       "      <th>Event.Id</th>\n",
       "      <th>Investigation.Type</th>\n",
       "      <th>Accident.Number</th>\n",
       "      <th>Event.Date</th>\n",
       "      <th>Location</th>\n",
       "      <th>Country</th>\n",
       "      <th>Latitude</th>\n",
       "      <th>Longitude</th>\n",
       "      <th>Airport.Code</th>\n",
       "      <th>Airport.Name</th>\n",
       "      <th>...</th>\n",
       "      <th>Purpose.of.flight</th>\n",
       "      <th>Air.carrier</th>\n",
       "      <th>Total.Fatal.Injuries</th>\n",
       "      <th>Total.Serious.Injuries</th>\n",
       "      <th>Total.Minor.Injuries</th>\n",
       "      <th>Total.Uninjured</th>\n",
       "      <th>Weather.Condition</th>\n",
       "      <th>Broad.phase.of.flight</th>\n",
       "      <th>Report.Status</th>\n",
       "      <th>Publication.Date</th>\n",
       "    </tr>\n",
       "  </thead>\n",
       "  <tbody>\n",
       "    <tr>\n",
       "      <th>90343</th>\n",
       "      <td>20221227106491</td>\n",
       "      <td>Accident</td>\n",
       "      <td>ERA23LA093</td>\n",
       "      <td>2022-12-26</td>\n",
       "      <td>Annapolis, MD</td>\n",
       "      <td>United States</td>\n",
       "      <td>NaN</td>\n",
       "      <td>NaN</td>\n",
       "      <td>NaN</td>\n",
       "      <td>NaN</td>\n",
       "      <td>...</td>\n",
       "      <td>Personal</td>\n",
       "      <td>NaN</td>\n",
       "      <td>0.0</td>\n",
       "      <td>1.0</td>\n",
       "      <td>0.0</td>\n",
       "      <td>0.0</td>\n",
       "      <td>NaN</td>\n",
       "      <td>NaN</td>\n",
       "      <td>NaN</td>\n",
       "      <td>29-12-2022</td>\n",
       "    </tr>\n",
       "    <tr>\n",
       "      <th>90344</th>\n",
       "      <td>20221227106494</td>\n",
       "      <td>Accident</td>\n",
       "      <td>ERA23LA095</td>\n",
       "      <td>2022-12-26</td>\n",
       "      <td>Hampton, NH</td>\n",
       "      <td>United States</td>\n",
       "      <td>NaN</td>\n",
       "      <td>NaN</td>\n",
       "      <td>NaN</td>\n",
       "      <td>NaN</td>\n",
       "      <td>...</td>\n",
       "      <td>NaN</td>\n",
       "      <td>NaN</td>\n",
       "      <td>0.0</td>\n",
       "      <td>0.0</td>\n",
       "      <td>0.0</td>\n",
       "      <td>0.0</td>\n",
       "      <td>NaN</td>\n",
       "      <td>NaN</td>\n",
       "      <td>NaN</td>\n",
       "      <td>NaN</td>\n",
       "    </tr>\n",
       "    <tr>\n",
       "      <th>90345</th>\n",
       "      <td>20221227106497</td>\n",
       "      <td>Accident</td>\n",
       "      <td>WPR23LA075</td>\n",
       "      <td>2022-12-26</td>\n",
       "      <td>Payson, AZ</td>\n",
       "      <td>United States</td>\n",
       "      <td>341525N</td>\n",
       "      <td>1112021W</td>\n",
       "      <td>PAN</td>\n",
       "      <td>PAYSON</td>\n",
       "      <td>...</td>\n",
       "      <td>Personal</td>\n",
       "      <td>NaN</td>\n",
       "      <td>0.0</td>\n",
       "      <td>0.0</td>\n",
       "      <td>0.0</td>\n",
       "      <td>1.0</td>\n",
       "      <td>VMC</td>\n",
       "      <td>NaN</td>\n",
       "      <td>NaN</td>\n",
       "      <td>27-12-2022</td>\n",
       "    </tr>\n",
       "    <tr>\n",
       "      <th>90346</th>\n",
       "      <td>20221227106498</td>\n",
       "      <td>Accident</td>\n",
       "      <td>WPR23LA076</td>\n",
       "      <td>2022-12-26</td>\n",
       "      <td>Morgan, UT</td>\n",
       "      <td>United States</td>\n",
       "      <td>NaN</td>\n",
       "      <td>NaN</td>\n",
       "      <td>NaN</td>\n",
       "      <td>NaN</td>\n",
       "      <td>...</td>\n",
       "      <td>Personal</td>\n",
       "      <td>MC CESSNA 210N LLC</td>\n",
       "      <td>0.0</td>\n",
       "      <td>0.0</td>\n",
       "      <td>0.0</td>\n",
       "      <td>0.0</td>\n",
       "      <td>NaN</td>\n",
       "      <td>NaN</td>\n",
       "      <td>NaN</td>\n",
       "      <td>NaN</td>\n",
       "    </tr>\n",
       "    <tr>\n",
       "      <th>90347</th>\n",
       "      <td>20221230106513</td>\n",
       "      <td>Accident</td>\n",
       "      <td>ERA23LA097</td>\n",
       "      <td>2022-12-29</td>\n",
       "      <td>Athens, GA</td>\n",
       "      <td>United States</td>\n",
       "      <td>NaN</td>\n",
       "      <td>NaN</td>\n",
       "      <td>NaN</td>\n",
       "      <td>NaN</td>\n",
       "      <td>...</td>\n",
       "      <td>Personal</td>\n",
       "      <td>NaN</td>\n",
       "      <td>0.0</td>\n",
       "      <td>1.0</td>\n",
       "      <td>0.0</td>\n",
       "      <td>1.0</td>\n",
       "      <td>NaN</td>\n",
       "      <td>NaN</td>\n",
       "      <td>NaN</td>\n",
       "      <td>30-12-2022</td>\n",
       "    </tr>\n",
       "  </tbody>\n",
       "</table>\n",
       "<p>5 rows × 31 columns</p>\n",
       "</div>"
      ],
      "text/plain": [
       "             Event.Id Investigation.Type Accident.Number  Event.Date  \\\n",
       "90343  20221227106491           Accident      ERA23LA093  2022-12-26   \n",
       "90344  20221227106494           Accident      ERA23LA095  2022-12-26   \n",
       "90345  20221227106497           Accident      WPR23LA075  2022-12-26   \n",
       "90346  20221227106498           Accident      WPR23LA076  2022-12-26   \n",
       "90347  20221230106513           Accident      ERA23LA097  2022-12-29   \n",
       "\n",
       "            Location        Country Latitude Longitude Airport.Code  \\\n",
       "90343  Annapolis, MD  United States      NaN       NaN          NaN   \n",
       "90344    Hampton, NH  United States      NaN       NaN          NaN   \n",
       "90345     Payson, AZ  United States  341525N  1112021W          PAN   \n",
       "90346     Morgan, UT  United States      NaN       NaN          NaN   \n",
       "90347     Athens, GA  United States      NaN       NaN          NaN   \n",
       "\n",
       "      Airport.Name  ... Purpose.of.flight         Air.carrier  \\\n",
       "90343          NaN  ...          Personal                 NaN   \n",
       "90344          NaN  ...               NaN                 NaN   \n",
       "90345       PAYSON  ...          Personal                 NaN   \n",
       "90346          NaN  ...          Personal  MC CESSNA 210N LLC   \n",
       "90347          NaN  ...          Personal                 NaN   \n",
       "\n",
       "      Total.Fatal.Injuries Total.Serious.Injuries Total.Minor.Injuries  \\\n",
       "90343                  0.0                    1.0                  0.0   \n",
       "90344                  0.0                    0.0                  0.0   \n",
       "90345                  0.0                    0.0                  0.0   \n",
       "90346                  0.0                    0.0                  0.0   \n",
       "90347                  0.0                    1.0                  0.0   \n",
       "\n",
       "      Total.Uninjured Weather.Condition  Broad.phase.of.flight Report.Status  \\\n",
       "90343             0.0               NaN                    NaN           NaN   \n",
       "90344             0.0               NaN                    NaN           NaN   \n",
       "90345             1.0               VMC                    NaN           NaN   \n",
       "90346             0.0               NaN                    NaN           NaN   \n",
       "90347             1.0               NaN                    NaN           NaN   \n",
       "\n",
       "      Publication.Date  \n",
       "90343       29-12-2022  \n",
       "90344              NaN  \n",
       "90345       27-12-2022  \n",
       "90346              NaN  \n",
       "90347       30-12-2022  \n",
       "\n",
       "[5 rows x 31 columns]"
      ]
     },
     "execution_count": 4,
     "metadata": {},
     "output_type": "execute_result"
    }
   ],
   "source": [
    "# Display the last 5 rows of the DataFrame\n",
    "df.tail()"
   ]
  },
  {
   "cell_type": "code",
   "execution_count": 5,
   "metadata": {},
   "outputs": [
    {
     "name": "stdout",
     "output_type": "stream",
     "text": [
      "<class 'pandas.core.frame.DataFrame'>\n",
      "RangeIndex: 90348 entries, 0 to 90347\n",
      "Data columns (total 31 columns):\n",
      " #   Column                  Non-Null Count  Dtype  \n",
      "---  ------                  --------------  -----  \n",
      " 0   Event.Id                88889 non-null  object \n",
      " 1   Investigation.Type      90348 non-null  object \n",
      " 2   Accident.Number         88889 non-null  object \n",
      " 3   Event.Date              88889 non-null  object \n",
      " 4   Location                88837 non-null  object \n",
      " 5   Country                 88663 non-null  object \n",
      " 6   Latitude                34382 non-null  object \n",
      " 7   Longitude               34373 non-null  object \n",
      " 8   Airport.Code            50249 non-null  object \n",
      " 9   Airport.Name            52790 non-null  object \n",
      " 10  Injury.Severity         87889 non-null  object \n",
      " 11  Aircraft.damage         85695 non-null  object \n",
      " 12  Aircraft.Category       32287 non-null  object \n",
      " 13  Registration.Number     87572 non-null  object \n",
      " 14  Make                    88826 non-null  object \n",
      " 15  Model                   88797 non-null  object \n",
      " 16  Amateur.Built           88787 non-null  object \n",
      " 17  Number.of.Engines       82805 non-null  float64\n",
      " 18  Engine.Type             81812 non-null  object \n",
      " 19  FAR.Description         32023 non-null  object \n",
      " 20  Schedule                12582 non-null  object \n",
      " 21  Purpose.of.flight       82697 non-null  object \n",
      " 22  Air.carrier             16648 non-null  object \n",
      " 23  Total.Fatal.Injuries    77488 non-null  float64\n",
      " 24  Total.Serious.Injuries  76379 non-null  float64\n",
      " 25  Total.Minor.Injuries    76956 non-null  float64\n",
      " 26  Total.Uninjured         82977 non-null  float64\n",
      " 27  Weather.Condition       84397 non-null  object \n",
      " 28  Broad.phase.of.flight   61724 non-null  object \n",
      " 29  Report.Status           82508 non-null  object \n",
      " 30  Publication.Date        73659 non-null  object \n",
      "dtypes: float64(5), object(26)\n",
      "memory usage: 21.4+ MB\n"
     ]
    }
   ],
   "source": [
    "# Display summary information about the DataFrame\n",
    "df.info()"
   ]
  },
  {
   "cell_type": "markdown",
   "metadata": {},
   "source": [
    "## Initial Data Exploration Findings\n",
    "\n",
    "After loading the dataset, initial exploration reveals several key characteristics:\n",
    "\n",
    "* **Dataset Size:** The dataset is quite large, containing **90,348 rows** and **31 columns**. This provides a substantial amount of data for analysis.\n",
    "\n",
    "* **Time Frame:** The data spans a very long period. The first entry is from **1948** (`df.head()`), and the last is from **2022** (`df.tail()`). For the business problem, the older data may not be relevant to the safety of modern aircraft.\n",
    "\n",
    "* **Missing Values:** The `.info()` output shows that several columns have a significant amount of missing data. For example, `Aircraft.Category`, `Schedule`, and `FAR.Description` are missing over half of their values. This will be a major focus when data cleaning.\n",
    "\n",
    "* **Data Types:** The `Event.Date` column is currently an `object` (text) and will need to be converted to a `datetime` format to allow for time-based filtering and analysis. The injury columns are `float64` and should be converted to integers."
   ]
  },
  {
   "cell_type": "markdown",
   "metadata": {},
   "source": [
    "## Data Cleaning and Preparation\n",
    "\n",
    "Initial exploration showed that the raw data has many columns not needed, duplicates and a lot of missing values. In this section, the data will be cleaned step-by-step to create a reliable dataset for analysis.\n",
    "\n",
    "### Selecting Relevant Columns and Removing Duplicates\n",
    "\n",
    "First, I will create a new DataFrame called `df_clean` that contains only the columns relevant to the business problem. I will then remove any rows that are complete duplicates."
   ]
  },
  {
   "cell_type": "code",
   "execution_count": 6,
   "metadata": {},
   "outputs": [
    {
     "name": "stdout",
     "output_type": "stream",
     "text": [
      "Shape of the DataFrame is now: (88855, 16)\n"
     ]
    }
   ],
   "source": [
    "# Define the list of columns that are useful for the analysis\n",
    "relevant_cols = [\n",
    "    'Event.Date', 'Aircraft.damage', 'Aircraft.Category', 'Make', 'Model',\n",
    "    'Number.of.Engines', 'Engine.Type', 'Amateur.Built', 'Weather.Condition',\n",
    "    'Location', 'Broad.phase.of.flight', 'Purpose.of.flight',\n",
    "    'Total.Fatal.Injuries', 'Total.Serious.Injuries',\n",
    "    'Total.Minor.Injuries', 'Total.Uninjured'\n",
    "]\n",
    "\n",
    "# Create a new DataFrame with only these columns.\n",
    "# Using .copy() helps avoid inplace parameter errors\n",
    "df_clean = df[relevant_cols].copy()\n",
    "\n",
    "# Remove any duplicate rows\n",
    "df_clean.drop_duplicates(inplace=True)\n",
    "\n",
    "# Show the new Dataframe's shape\n",
    "print(f\"Shape of the DataFrame is now: {df_clean.shape}\")"
   ]
  },
  {
   "cell_type": "markdown",
   "metadata": {},
   "source": [
    "### Filtering by Aircraft Category\n",
    "\n",
    "The business is focused on purchasing and operating **airplanes**. I need to filter the dataset to exclude other categories like helicopters, gliders, balloons, etc."
   ]
  },
  {
   "cell_type": "code",
   "execution_count": 7,
   "metadata": {},
   "outputs": [
    {
     "name": "stdout",
     "output_type": "stream",
     "text": [
      "Original Aircraft Categories:\n",
      "NaN                  56578\n",
      "Airplane             27609\n",
      "Helicopter            3438\n",
      "Glider                 508\n",
      "Balloon                231\n",
      "Gyrocraft              173\n",
      "Weight-Shift           161\n",
      "Powered Parachute       91\n",
      "Ultralight              30\n",
      "Unknown                 14\n",
      "WSFT                     9\n",
      "Powered-Lift             5\n",
      "Blimp                    4\n",
      "UNK                      2\n",
      "Rocket                   1\n",
      "ULTR                     1\n",
      "Name: Aircraft.Category, dtype: int64\n",
      "\n",
      "After filtering for airplanes, the shape is: (27609, 16)\n"
     ]
    }
   ],
   "source": [
    "# Show the different types of aircraft in the data\n",
    "print(\"Original Aircraft Categories:\")\n",
    "print(df_clean['Aircraft.Category'].value_counts(dropna = False))\n",
    "\n",
    "# Standardize column to lowercase\n",
    "df_clean['Aircraft.Category'] = df_clean['Aircraft.Category'].str.lower()\n",
    "\n",
    "# Only rows with airplane in the category are retained in the DataFrame\n",
    "df_clean = df_clean[df_clean['Aircraft.Category'] == 'airplane'].copy()\n",
    "\n",
    "print(f\"\\nAfter filtering for airplanes, the shape is: {df_clean.shape}\")"
   ]
  },
  {
   "cell_type": "markdown",
   "metadata": {},
   "source": [
    "### Handling Missing Values and \"Unknowns\"\n",
    "\n",
    "The dataset now contains only airplanes, but still has many missing values. I will clean the most important categorical columns. My general strategy will be:\n",
    "\n",
    "1.  **Examine:** Look at the value counts to see what's in the column.\n",
    "2.  **Standardize:** Combine similar categories (e.g., 'UNK' and 'Unk' into 'Unknown').\n",
    "3.  **Decide:** For each column, I will decide whether to drop the rows with missing/unknown data. For this analysis, I want a high-quality dataset, so I will remove rows where the **Engine Type**, **Weather**, or **Damage** are missing or unknown."
   ]
  },
  {
   "cell_type": "code",
   "execution_count": 8,
   "metadata": {},
   "outputs": [
    {
     "name": "stdout",
     "output_type": "stream",
     "text": [
      "Broad.phase.of.flight column has 76.79379912347423 missing values\n"
     ]
    }
   ],
   "source": [
    "#Show percentage of Null values in column\n",
    "print(f\"Broad.phase.of.flight column has {df_clean['Broad.phase.of.flight'].isna().mean() * 100} missing values\")\n",
    "\n",
    "# Drop Broad.phase.of.flight because it has too many missing values\n",
    "df_clean.drop(columns='Broad.phase.of.flight', inplace=True)"
   ]
  },
  {
   "cell_type": "markdown",
   "metadata": {},
   "source": [
    "#### Cleaning `Engine.Type`\n",
    "An aircraft's engine is critical information. I will remove rows where this is missing or unknown."
   ]
  },
  {
   "cell_type": "code",
   "execution_count": 9,
   "metadata": {},
   "outputs": [
    {
     "name": "stdout",
     "output_type": "stream",
     "text": [
      "After cleaning Engine.Type, shape is: (23233, 15)\n"
     ]
    }
   ],
   "source": [
    "# Standardize 'UNK' to 'Unknown' and strip any extra whitespace\n",
    "df_clean['Engine.Type'] = df_clean['Engine.Type'].str.strip().replace({'UNK': 'Unknown'})\n",
    "\n",
    "# Fill NaN values with 'Unknown'\n",
    "df_clean['Engine.Type'] = df_clean['Engine.Type'].fillna('Unknown')\n",
    "\n",
    "# Now, remove all rows where Engine.Type is 'Unknown'\n",
    "df_clean = df_clean[df_clean['Engine.Type'] != 'Unknown'].copy()\n",
    "\n",
    "print(f\"After cleaning Engine.Type, shape is: {df_clean.shape}\")"
   ]
  },
  {
   "cell_type": "markdown",
   "metadata": {},
   "source": [
    "#### Cleaning `Weather.Condition`\n",
    "Weather is a key factor in accidents. I will remove incidents where the weather was not recorded."
   ]
  },
  {
   "cell_type": "code",
   "execution_count": 10,
   "metadata": {},
   "outputs": [
    {
     "name": "stdout",
     "output_type": "stream",
     "text": [
      "After cleaning Weather.Condition, shape is: (22325, 15)\n"
     ]
    }
   ],
   "source": [
    "# Standardize 'Unk' and 'UNK'\n",
    "df_clean['Weather.Condition'] = df_clean['Weather.Condition'].replace({'Unk': 'UNK'})\n",
    "\n",
    "# Fill NaN values with 'UNK'\n",
    "df_clean['Weather.Condition'] = df_clean['Weather.Condition'].fillna('UNK')\n",
    "\n",
    "# Remove rows with 'UNK' weather\n",
    "df_clean = df_clean[df_clean['Weather.Condition'] != 'UNK'].copy()\n",
    "print(f\"After cleaning Weather.Condition, shape is: {df_clean.shape}\")"
   ]
  },
  {
   "cell_type": "markdown",
   "metadata": {},
   "source": [
    "#### Cleaning `Number.of.Engines`\n",
    "I decided to fill missing engine counts with the mode as most aircraft are single-engine."
   ]
  },
  {
   "cell_type": "code",
   "execution_count": 11,
   "metadata": {},
   "outputs": [],
   "source": [
    "# Fill missing Number.of.Engines with the mode (which is 1.0)\n",
    "mode_engines = df_clean['Number.of.Engines'].mode()[0]\n",
    "df_clean['Number.of.Engines'] = df_clean['Number.of.Engines'].fillna(mode_engines)\n",
    "\n",
    "# Convert the column to integer type\n",
    "df_clean['Number.of.Engines'] = df_clean['Number.of.Engines'].astype(int)"
   ]
  },
  {
   "cell_type": "markdown",
   "metadata": {},
   "source": [
    "#### Cleaning `Aircraft.damage`\n",
    "Similar to previous steps, I will remove rows where the damage level is 'Unknown'."
   ]
  },
  {
   "cell_type": "code",
   "execution_count": 12,
   "metadata": {},
   "outputs": [
    {
     "name": "stdout",
     "output_type": "stream",
     "text": [
      "After cleaning Aircraft.damage, shape is: (21948, 15)\n"
     ]
    }
   ],
   "source": [
    "# Standardize and fill NaN values\n",
    "df_clean['Aircraft.damage'] = df_clean['Aircraft.damage'].fillna('Unknown').str.title()\n",
    "\n",
    "# Remove rows with 'Unknown' damage\n",
    "df_clean = df_clean[df_clean['Aircraft.damage'] != 'Unknown'].copy()\n",
    "print(f\"After cleaning Aircraft.damage, shape is: {df_clean.shape}\")"
   ]
  },
  {
   "cell_type": "markdown",
   "metadata": {},
   "source": [
    "#### Cleaning `Amateur.Built`, `Location`, `Make`, and `Model`\n",
    "These are the final columns to clean. `Make` and `Model` are the most important, so I decided to drop any rows where they are missing."
   ]
  },
  {
   "cell_type": "code",
   "execution_count": 13,
   "metadata": {},
   "outputs": [
    {
     "data": {
      "text/plain": [
       "No     19067\n",
       "Yes     2878\n",
       "Name: Amateur.Built, dtype: int64"
      ]
     },
     "execution_count": 13,
     "metadata": {},
     "output_type": "execute_result"
    }
   ],
   "source": [
    "# Show value counts in column\n",
    "df_clean['Amateur.Built'].value_counts()"
   ]
  },
  {
   "cell_type": "code",
   "execution_count": 14,
   "metadata": {},
   "outputs": [
    {
     "name": "stdout",
     "output_type": "stream",
     "text": [
      "Shape of the DataFrame is now: (21928, 15)\n"
     ]
    }
   ],
   "source": [
    "# Fill missing 'Amateur.Built' values with 'No' (the most common value)\n",
    "df_clean['Amateur.Built'] = df_clean['Amateur.Built'].fillna('No')\n",
    "\n",
    "# Drop the few rows with missing Make, Model, or Location\n",
    "df_clean.dropna(subset=['Make', 'Model', 'Location'], inplace=True)\n",
    "\n",
    "print(f\"Shape of the DataFrame is now: {df_clean.shape}\")"
   ]
  },
  {
   "cell_type": "markdown",
   "metadata": {},
   "source": [
    "### Cleaning Numerical Columns\n",
    "\n",
    "In this section, I clean the numerical data. The injury columns (`Total.Fatal.Injuries`, etc.) are floats and contain missing values. I will convert these to integers, filling any missing values with 0."
   ]
  },
  {
   "cell_type": "code",
   "execution_count": 15,
   "metadata": {},
   "outputs": [
    {
     "name": "stdout",
     "output_type": "stream",
     "text": [
      "<class 'pandas.core.frame.DataFrame'>\n",
      "Int64Index: 21928 entries, 5 to 90226\n",
      "Data columns (total 4 columns):\n",
      " #   Column                  Non-Null Count  Dtype\n",
      "---  ------                  --------------  -----\n",
      " 0   Total.Fatal.Injuries    21928 non-null  int64\n",
      " 1   Total.Serious.Injuries  21928 non-null  int64\n",
      " 2   Total.Minor.Injuries    21928 non-null  int64\n",
      " 3   Total.Uninjured         21928 non-null  int64\n",
      "dtypes: int64(4)\n",
      "memory usage: 856.6 KB\n"
     ]
    }
   ],
   "source": [
    "# Define the list of injury-related columns\n",
    "injury_cols = [\n",
    "    'Total.Fatal.Injuries', 'Total.Serious.Injuries',\n",
    "    'Total.Minor.Injuries', 'Total.Uninjured'\n",
    "]\n",
    "\n",
    "# Loop through each column to fill missing values with 0 and convert to integer type\n",
    "for col in injury_cols:\n",
    "    df_clean[col] = pd.to_numeric(df_clean[col], errors='coerce').fillna(0).astype(int)\n",
    "\n",
    "df_clean[injury_cols].info()"
   ]
  },
  {
   "cell_type": "markdown",
   "metadata": {},
   "source": [
    "## Feature Engineering\n",
    "\n",
    "To make this analysis more powerful, I will create a new feature called `Risk_Score`. This score will represent the overall severity of an incident based on the injuries. I will assign a weight to each injury type allowing a comparison between the severity of different incidents:\n",
    "\n",
    "* **Fatal Injury:** 3 points\n",
    "* **Serious Injury:** 2 points\n",
    "* **Minor Injury:** 1 point"
   ]
  },
  {
   "cell_type": "code",
   "execution_count": 16,
   "metadata": {},
   "outputs": [
    {
     "data": {
      "text/html": [
       "<div>\n",
       "<style scoped>\n",
       "    .dataframe tbody tr th:only-of-type {\n",
       "        vertical-align: middle;\n",
       "    }\n",
       "\n",
       "    .dataframe tbody tr th {\n",
       "        vertical-align: top;\n",
       "    }\n",
       "\n",
       "    .dataframe thead th {\n",
       "        text-align: right;\n",
       "    }\n",
       "</style>\n",
       "<table border=\"1\" class=\"dataframe\">\n",
       "  <thead>\n",
       "    <tr style=\"text-align: right;\">\n",
       "      <th></th>\n",
       "      <th>Total.Fatal.Injuries</th>\n",
       "      <th>Total.Serious.Injuries</th>\n",
       "      <th>Total.Minor.Injuries</th>\n",
       "      <th>Risk_Score</th>\n",
       "    </tr>\n",
       "  </thead>\n",
       "  <tbody>\n",
       "    <tr>\n",
       "      <th>5</th>\n",
       "      <td>0</td>\n",
       "      <td>0</td>\n",
       "      <td>1</td>\n",
       "      <td>1</td>\n",
       "    </tr>\n",
       "    <tr>\n",
       "      <th>7</th>\n",
       "      <td>0</td>\n",
       "      <td>0</td>\n",
       "      <td>0</td>\n",
       "      <td>0</td>\n",
       "    </tr>\n",
       "    <tr>\n",
       "      <th>8</th>\n",
       "      <td>0</td>\n",
       "      <td>0</td>\n",
       "      <td>0</td>\n",
       "      <td>0</td>\n",
       "    </tr>\n",
       "    <tr>\n",
       "      <th>12</th>\n",
       "      <td>0</td>\n",
       "      <td>0</td>\n",
       "      <td>1</td>\n",
       "      <td>1</td>\n",
       "    </tr>\n",
       "    <tr>\n",
       "      <th>13</th>\n",
       "      <td>1</td>\n",
       "      <td>0</td>\n",
       "      <td>0</td>\n",
       "      <td>3</td>\n",
       "    </tr>\n",
       "  </tbody>\n",
       "</table>\n",
       "</div>"
      ],
      "text/plain": [
       "    Total.Fatal.Injuries  Total.Serious.Injuries  Total.Minor.Injuries  \\\n",
       "5                      0                       0                     1   \n",
       "7                      0                       0                     0   \n",
       "8                      0                       0                     0   \n",
       "12                     0                       0                     1   \n",
       "13                     1                       0                     0   \n",
       "\n",
       "    Risk_Score  \n",
       "5            1  \n",
       "7            0  \n",
       "8            0  \n",
       "12           1  \n",
       "13           3  "
      ]
     },
     "execution_count": 16,
     "metadata": {},
     "output_type": "execute_result"
    }
   ],
   "source": [
    "# Creating the 'Risk_Score' column using a weighted sum of injuries\n",
    "df_clean['Risk_Score'] = (\n",
    "    df_clean['Total.Fatal.Injuries'] * 3 +\n",
    "    df_clean['Total.Serious.Injuries'] * 2 +\n",
    "    df_clean['Total.Minor.Injuries'] * 1\n",
    ")\n",
    "\n",
    "# Show Injury Severity columns\n",
    "df_clean[['Total.Fatal.Injuries', 'Total.Serious.Injuries', 'Total.Minor.Injuries', 'Risk_Score']].head()"
   ]
  },
  {
   "cell_type": "markdown",
   "metadata": {},
   "source": [
    "## Final Data Preparation\n",
    "\n",
    "Before analysis and visualization:\n",
    "\n",
    "1.  **Filter by Date:** Focus the analysis on the modern aviation era. The dataset will be filtered to include incidents from **2000 to the present**.\n",
    "2.  **Standardize Text:** Clean up the `Make` and `Model` columns.\n",
    "3.  **Combine Columns:** Create a `Make_Model` column to uniquely identify each airplane model."
   ]
  },
  {
   "cell_type": "code",
   "execution_count": 17,
   "metadata": {},
   "outputs": [
    {
     "name": "stdout",
     "output_type": "stream",
     "text": [
      "The final shape of the cleaned dataset is: (18719, 17)\n"
     ]
    }
   ],
   "source": [
    "# Convert 'Event.Date' to datetime objects\n",
    "df_clean['Event.Date'] = pd.to_datetime(df_clean['Event.Date'], errors='coerce')\n",
    "\n",
    "# Filter for incidents in the 21st century for maximum relevance\n",
    "df_clean = df_clean[df_clean['Event.Date'].dt.year >= 2000].copy()\n",
    "\n",
    "# Standardize text columns by stripping whitespace and converting to uppercase\n",
    "cols_to_clean = ['Make', 'Model']\n",
    "for col in cols_to_clean:\n",
    "    df_clean[col] = df_clean[col].str.strip().str.upper()\n",
    "\n",
    "# Create the 'Make_Model' column\n",
    "df_clean['Make_Model'] = df_clean['Make'] + ' ' + df_clean['Model']\n",
    "\n",
    "print(f\"The final shape of the cleaned dataset is: {df_clean.shape}\")"
   ]
  },
  {
   "cell_type": "code",
   "execution_count": 18,
   "metadata": {},
   "outputs": [],
   "source": [
    "# Save the final cleaned DataFrame to a CSV file.\n",
    "df_clean.to_csv('data/cleaned_aviation_data.csv', index=False)"
   ]
  },
  {
   "cell_type": "markdown",
   "metadata": {},
   "source": [
    "## Data Visualization\n",
    "\n",
    "Now that cleaning and preparing of the dataset is done, I will create visualizations to answer the business question: **Which airplanes are the lowest risk?**\n",
    "\n",
    "To ensure my recommendations are based on reliable data, I will filter the analysis to only include airplane models that have had a significant number of incidents (50 or more) since 2000. This focuses attention to common, well-documented airplanes."
   ]
  },
  {
   "cell_type": "code",
   "execution_count": 19,
   "metadata": {},
   "outputs": [
    {
     "name": "stdout",
     "output_type": "stream",
     "text": [
      "Original number of unique models: 5757\n",
      "Number of common models (>= 50 incidents) to be analyzed: 42\n"
     ]
    }
   ],
   "source": [
    "import matplotlib.pyplot as plt\n",
    "import seaborn as sns\n",
    "\n",
    "# Get the incident count for each unique aircraft model\n",
    "model_counts = df_clean['Make_Model'].value_counts()\n",
    "\n",
    "# Only analyzing models that appear 50 or more times in the cleaned dataset\n",
    "common_models = model_counts[model_counts >= 50].index\n",
    "\n",
    "# Filter the main DataFrame to only include these common models\n",
    "df_viz = df_clean[df_clean['Make_Model'].isin(common_models)].copy()\n",
    "\n",
    "print(f\"Original number of unique models: {len(model_counts)}\")\n",
    "print(f\"Number of common models (>= 50 incidents) to be analyzed: {len(common_models)}\")"
   ]
  },
  {
   "cell_type": "markdown",
   "metadata": {},
   "source": [
    "### Which Aircraft Are the Safest?\n",
    "\n",
    "This chart answers the main question. I will calculate the average `Risk_Score` for each common airplane model. A lower score indicates a better historical safety record. The chart below shows the top 15 models with the lowest average risk scores."
   ]
  },
  {
   "cell_type": "code",
   "execution_count": 20,
   "metadata": {},
   "outputs": [
    {
     "data": {
      "image/png": "[encoded data removed]",
      "text/plain": [
       "<Figure size 864x576 with 1 Axes>"
      ]
     },
     "metadata": {
      "needs_background": "light"
     },
     "output_type": "display_data"
    }
   ],
   "source": [
    "# Group by Make_Model and calculate the mean Risk_Score\n",
    "model_risk = df_viz.groupby('Make_Model')['Risk_Score'].mean().sort_values(ascending=True)\n",
    "\n",
    "# Select the top 15 safest models\n",
    "top_15_safest = model_risk.head(15)\n",
    "\n",
    "# Plotting\n",
    "plt.figure(figsize=(12, 8))\n",
    "sns.barplot(x=top_15_safest.values, y=top_15_safest.index, palette='summer')\n",
    "\n",
    "plt.title('Top 15 Lowest-Risk Aircraft Models (with >= 50 Incidents)', fontsize=16)\n",
    "plt.xlabel('Average Risk Score (Lower is Better)', fontsize=12)\n",
    "plt.ylabel('Aircraft Model', fontsize=12)\n",
    "plt.show()"
   ]
  },
  {
   "cell_type": "markdown",
   "metadata": {},
   "source": [
    "### Which Airplanes Are the Riskiest?\n",
    "\n",
    "It is crucial to identify which airplane have a history of more severe incidents. This chart shows the 15 models with the highest average `Risk_Score`. This information will help the company avoid potentially problematic investments."
   ]
  },
  {
   "cell_type": "code",
   "execution_count": 21,
   "metadata": {},
   "outputs": [
    {
     "data": {
      "image/png": "[encoded data removed]",
      "text/plain": [
       "<Figure size 864x576 with 1 Axes>"
      ]
     },
     "metadata": {
      "needs_background": "light"
     },
     "output_type": "display_data"
    }
   ],
   "source": [
    "# Select the top 15 riskiest models (use .tail(15) from the sorted list)\n",
    "top_15_riskiest = model_risk.tail(15).sort_values(ascending=False)\n",
    "\n",
    "# Plotting\n",
    "plt.figure(figsize=(12, 8))\n",
    "sns.barplot(x=top_15_riskiest.values, y=top_15_riskiest.index, palette='autumn')\n",
    "\n",
    "plt.title('Top 15 Highest-Risk Aircraft Models (with >= 50 Incidents)', fontsize=16)\n",
    "plt.xlabel('Average Risk Score (Higher is Riskier)', fontsize=12)\n",
    "plt.ylabel('Aircraft Model', fontsize=12)\n",
    "plt.show()"
   ]
  },
  {
   "cell_type": "markdown",
   "metadata": {},
   "source": [
    "### How Does Engine Type Affect Incident Severity?\n",
    "\n",
    "While reciprocating engines are in the most common airplane, are they involved in more or less severe incidents? This chart compares the average `Risk_Score` for each engine type. This will help inform what kind of engine technology the company should invest in."
   ]
  },
  {
   "cell_type": "code",
   "execution_count": 22,
   "metadata": {},
   "outputs": [
    {
     "data": {
      "image/png": "[encoded data removed]",
      "text/plain": [
       "<Figure size 720x432 with 1 Axes>"
      ]
     },
     "metadata": {
      "needs_background": "light"
     },
     "output_type": "display_data"
    }
   ],
   "source": [
    "# Group by Engine.Type and calculate the mean Risk_Score\n",
    "risk_by_engine = df_viz.groupby('Engine.Type')['Risk_Score'].mean().sort_values(ascending=False)\n",
    "\n",
    "# Plotting\n",
    "plt.figure(figsize=(10, 6))\n",
    "sns.barplot(x=risk_by_engine.index, y=risk_by_engine.values, palette='magma')\n",
    "\n",
    "plt.title('Average Risk Score by Engine Type', fontsize=16)\n",
    "plt.xlabel('Engine Type', fontsize=12)\n",
    "plt.ylabel('Average Risk Score (Higher is Riskier)', fontsize=12)\n",
    "plt.show()"
   ]
  },
  {
   "cell_type": "markdown",
   "metadata": {},
   "source": [
    "### What is the Impact of Weather on Incident Severity?\n",
    "\n",
    "This is perhaps one of the most important operational questions. Are accidents in bad weather (IMC - Instrument Meteorological Conditions) more severe than those in good weather (VMC - Visual Meteorological Conditions)?"
   ]
  },
  {
   "cell_type": "code",
   "execution_count": 23,
   "metadata": {},
   "outputs": [
    {
     "data": {
      "image/png": "[encoded data removed]",
      "text/plain": [
       "<Figure size 576x360 with 1 Axes>"
      ]
     },
     "metadata": {
      "needs_background": "light"
     },
     "output_type": "display_data"
    }
   ],
   "source": [
    "# Group by Weather.Condition and calculate the mean Risk_Score\n",
    "risk_by_weather = df_viz.groupby('Weather.Condition')['Risk_Score'].mean().sort_values(ascending=False)\n",
    "\n",
    "# Plotting\n",
    "plt.figure(figsize=(8, 5))\n",
    "sns.barplot(x=risk_by_weather.index, y=risk_by_weather.values, palette='coolwarm')\n",
    "\n",
    "plt.title('Average Risk Score by Weather Condition', fontsize=16)\n",
    "plt.xlabel('Weather Condition', fontsize=12)\n",
    "plt.ylabel('Average Risk Score', fontsize=12)\n",
    "plt.show()"
   ]
  },
  {
   "cell_type": "markdown",
   "metadata": {},
   "source": [
    "## Conclusion and Business Recommendations\n",
    "\n",
    "This analysis of the NTSB aviation accident data from 2000 to the present has successfully identified key factors that influence airplane risk. By cleaning the data and creating a custom `Risk_Score` that measures incident severity, I have derived clear, data-driven insights to guide the company's entry into the aviation market.\n",
    "\n",
    "### Key Analytical Findings\n",
    "\n",
    "1.  **Specific Models Have Proven Safety Records:** This analysis shows that a distinct group of common airplanes, particularly models like the **Cessna 152**, **Piper PA-18-150**, and **Cessna 172S**, have a demonstrably lower average risk score, indicating a history of less severe incidents.\n",
    "2.  **Reciprocating Engines Show Lower Incident Severity:** While incidents involving reciprocating engines are frequent due to their widespread use in general aviation, they have a significantly lower average `Risk_Score` compared to more complex turbine engines.\n",
    "3.  **Adverse Weather is a Major Risk Multiplier:** The most striking finding is that incidents occurring in Instrument Meteorological Conditions (IMC or bad weather) have a dramatically higher average `Risk_Score` than those in good weather (VMC). This indicates that flights in poor weather are substantially more dangerous.\n",
    "\n",
    "### Actionable Business Recommendations\n",
    "\n",
    "Based on these findings, I propose the following three recommendations to ensure a safe and successful launch of the new aviation division:\n",
    "\n",
    "**Recommendation 1: Prioritize Low-Risk Aircraft for Initial Acquisition.**\n",
    "* **Action:** Direct the purchasing team to focus initial acquisitions on models identified as having the lowest average risk scores, such as the **Cessna 152, Piper PA-18 series, and specific Cessna 172 variants.** Building the foundational fleet with these aircraft will minimize operational and insurance risks.\n",
    "\n",
    "**Recommendation 2: Begin Fleet Operations with Reciprocating Engine.**\n",
    "* **Action:** For the company's initial phase of operations, prioritize airplanes with **reciprocating engines**. Their proven history of lower-severity incidents makes them an ideal, risk-averse choice for a new venture.\n",
    "\n",
    "**Recommendation 3: Invest in a World-Class Pilot Training Program Focused on Adverse Weather.**\n",
    "* **Action:** The data provides a clear mandate: the single most effective way to mitigate the risk of severe accidents is to master flying in bad weather. I strongly recommend allocating a significant portion of the initial budget to an **advanced, mandatory pilot training program**. This program must go beyond basic requirements and have a rigorous focus on instrument flight rules (IFR) and critical decision-making in IMC."
   ]
  }
 ],
 "metadata": {
  "kernelspec": {
   "display_name": "Python 3",
   "language": "python",
   "name": "python3"
  },
  "language_info": {
   "codemirror_mode": {
    "name": "ipython",
    "version": 3
   },
   "file_extension": ".py",
   "mimetype": "text/x-python",
   "name": "python",
   "nbconvert_exporter": "python",
   "pygments_lexer": "ipython3",
   "version": "3.8.5"
  }
 },
 "nbformat": 4,
 "nbformat_minor": 2
}
